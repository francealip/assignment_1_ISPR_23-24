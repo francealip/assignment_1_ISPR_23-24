{
 "cells": [
  {
   "cell_type": "markdown",
   "metadata": {},
   "source": [
    "<h2>ASSIGNMENT 7: implementation of blob detector using laplatian of a gaussian<h2>\n",
    "\n",
    "<h4><b>Author</b>: Aliprandi Francesco<h4>\n"
   ]
  },
  {
   "cell_type": "markdown",
   "metadata": {},
   "source": [
    "<h4><b>1. CODE</b></h4>\n"
   ]
  },
  {
   "cell_type": "code",
   "execution_count": 51,
   "metadata": {},
   "outputs": [],
   "source": [
    "from PIL import Image\n",
    "import numpy as np\n",
    "import os\n",
    "import matplotlib.pyplot as plt\n",
    "\n",
    "sigma = 3.0\n"
   ]
  },
  {
   "cell_type": "code",
   "execution_count": 65,
   "metadata": {},
   "outputs": [],
   "source": [
    "#Utiliy functions for image processing\n",
    "\n",
    "def read_images(dir):\n",
    "    \"\"\"\n",
    "    function that read the images in the directory and return a list of images\n",
    "\n",
    "    :dir: directory path of the images\n",
    "    :return: list of images\n",
    "    \"\"\"\n",
    "    img = []\n",
    "    # Loop through each file in the directory\n",
    "    for filename in os.listdir(dir):\n",
    "        if filename.endswith(\".png\"):\n",
    "            image_path = os.path.join(dir, filename)\n",
    "            # Open the image and convert to grey scale\n",
    "            image = Image.open(image_path).convert(\"L\")          \n",
    "            img.append(image)\n",
    "    return img\n",
    "\n",
    "def laplacian_of_gaussian(sigma):\n",
    "    \"\"\"\n",
    "    Create the laplacian of a Gaussian filter kernel.\n",
    "    \n",
    "    :parameter sigma: Standard deviation of the Gaussian function.\n",
    "    :return: LoG filter kernel\n",
    "    \"\"\"\n",
    "    size = 6*sigma\n",
    "    # Create vector of coordinates\n",
    "    x, y = np.meshgrid(np.arange(-size//2 + 1, size//2 + 1), np.arange(-size//2 + 1, size//2 + 1))\n",
    "\n",
    "    # Compute normalized laplacian of a Gaussian function using the coordinates\n",
    "    log = ((-1/(np.pi * sigma**2))*(1-((x*x+y*y)/(2*sigma**2)))*np.exp(-(x*x+y*y)/(2*sigma**2))) \n",
    "    return log  \n",
    "\n",
    "def filter_size(filter):\n",
    "    \"\"\"\n",
    "    function that returns the size of the filter\n",
    "\n",
    "    :param filter: filter\n",
    "    :return: size of the filter\n",
    "    \"\"\"\n",
    "    return filter.shape[0]\n",
    "\n"
   ]
  },
  {
   "cell_type": "code",
   "execution_count": 53,
   "metadata": {},
   "outputs": [],
   "source": [
    "#support function for plotting\n",
    "def bid_plot(LoG_filter):\n",
    "    \"\"\"\n",
    "    plot of the LoG filter in 2D space\n",
    "        \n",
    "    :parameter LoG_filter: LoG filter kernel\n",
    "    \"\"\"\n",
    "\n",
    "    # Plot the LoG filter as an image\n",
    "    plt.imshow(LoG_filter, cmap='gray')\n",
    "    plt.title('2D - Laplacian of Gaussian Filter')\n",
    "    plt.colorbar(label='Filter Value')\n",
    "    plt.xlabel('X-axis')\n",
    "    plt.ylabel('Y-axis')\n",
    "    plt.show()\n",
    "    \n",
    "def tridim_plot(LoG_filter):\n",
    "    \"\"\"\n",
    "    plot of the LoG filter in 3D space\n",
    "        \n",
    "    :parameter LoG_filter: LoG filter kernel\n",
    "    \"\"\"\n",
    "    size = 6*sigma\n",
    "    \n",
    "    # Create vector of coordinates\n",
    "    x = np.arange(-size//2+1 , size//2 + 1)\n",
    "    y = np.arange(-size//2+1 , size//2 + 1)\n",
    "    x, y = np.meshgrid(x, y)\n",
    "    z = LoG_filter\n",
    "\n",
    "    # Plot 3D\n",
    "    fig = plt.figure()\n",
    "    ax = fig.add_subplot(111, projection='3d')\n",
    "    ax.plot_surface(x, y, z, cmap='viridis')\n",
    "\n",
    "    ax.set_xlabel('X')\n",
    "    ax.set_ylabel('Y')\n",
    "    ax.set_zlabel('Filter Value')\n",
    "    ax.set_title('3D Plot of Laplacian of Gaussian Filter')\n",
    "\n",
    "    plt.show()\n"
   ]
  },
  {
   "cell_type": "markdown",
   "metadata": {},
   "source": [
    "<h4>2. TEST</h4>"
   ]
  },
  {
   "cell_type": "code",
   "execution_count": 57,
   "metadata": {},
   "outputs": [],
   "source": [
    "#get images directory\n",
    "\n",
    "current_dir = os. getcwd()\n",
    "parent_dir = os.path.dirname(current_dir)\n",
    "img_dir = os.path.join(parent_dir, \"images\")\n",
    "\n",
    "#read test images\n",
    "img1, img2, img3 = read_images(img_dir)\n",
    "\n",
    "#img2.show()"
   ]
  }
 ],
 "metadata": {
  "kernelspec": {
   "display_name": "catext",
   "language": "python",
   "name": "python3"
  },
  "language_info": {
   "codemirror_mode": {
    "name": "ipython",
    "version": 3
   },
   "file_extension": ".py",
   "mimetype": "text/x-python",
   "name": "python",
   "nbconvert_exporter": "python",
   "pygments_lexer": "ipython3",
   "version": "3.12.2"
  }
 },
 "nbformat": 4,
 "nbformat_minor": 2
}
